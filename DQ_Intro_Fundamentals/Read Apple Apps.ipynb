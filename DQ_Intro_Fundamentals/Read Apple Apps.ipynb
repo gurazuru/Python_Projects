{
 "cells": [
  {
   "cell_type": "markdown",
   "metadata": {},
   "source": [
    "## Open and Read AppleStore.csv File\n",
    "\n",
    "In the code cell below, AppleStore.csv is opened and read as a list of lists. Only the first 5 rows are displayed."
   ]
  },
  {
   "cell_type": "code",
   "execution_count": 3,
   "metadata": {},
   "outputs": [
    {
     "name": "stdout",
     "output_type": "stream",
     "text": [
      "[['1', '281656475', 'PAC-MAN Premium', '100788224', 'USD', '3.99', '21292', '26', '4', '4.5', '6.3.5', '4+', 'Games', '38', '5', '10', '1'], ['2', '281796108', 'Evernote - stay organized', '158578688', 'USD', '0', '161065', '26', '4', '3.5', '8.2.2', '4+', 'Productivity', '37', '5', '23', '1'], ['3', '281940292', 'WeatherBug - Local Weather, Radar, Maps, Alerts', '100524032', 'USD', '0', '188583', '2822', '3.5', '4.5', '5.0.0', '4+', 'Weather', '37', '5', '3', '1'], ['4', '282614216', 'eBay: Best App to Buy, Sell, Save! Online Shopping', '128512000', 'USD', '0', '262241', '649', '4', '4.5', '5.10.0', '12+', 'Shopping', '37', '5', '9', '1'], ['5', '282935706', 'Bible', '92774400', 'USD', '0', '985920', '5320', '4.5', '5', '7.5.1', '4+', 'Reference', '37', '5', '45', '1']]\n"
     ]
    }
   ],
   "source": [
    "open_file = open('AppleStore.csv', encoding='UTF8')\n",
    "from csv import reader\n",
    "read_file = reader(open_file)\n",
    "apps_data = list(read_file)\n",
    "\n",
    "first_few = apps_data[1:6]\n",
    "\n",
    "print(first_few)"
   ]
  },
  {
   "cell_type": "markdown",
   "metadata": {},
   "source": [
    "* Data: A list of apps in Apple Store (7,000+ apps)\n",
    "* Source: iTunes Search API (collected by [Ramanathan Perumal](https://www.kaggle.com/ramamet4/app-store-apple-data-set-10k-apps))\n",
    "\n",
    "Column Description:\n",
    "\n",
    "| Column name | Description\n",
    "| :---        |  :--- \n",
    "| \"id\"      | App ID       \n",
    "| \"track_name\"  | App Name     \n",
    "| \"size_bytes\" | Size (in Bytes)\n",
    "| \"currency\" | Currency Type\n",
    "| \"price\" | Price amount\n",
    "| \"ratingcounttot\" | User Rating counts (for all version)\n",
    "| \"ratingcountver\" | User Rating counts (for current version)\n",
    "| \"user_rating\" | Average User Rating value (for all version)\n",
    "| \"userratingver\" | Average User Rating value (for current version)\n",
    "| \"ver\" | Latest version code\n",
    "| \"cont_rating\" | Content Rating\n",
    "| \"prime_genre\" | Primary Genre\n",
    "| \"sup_devices.num\" | Number of supporting devices\n",
    "| \"ipadSc_urls.num\" | Number of screenshots showed for display\n",
    "| \"lang.num\" | Number of supported languages\n",
    "| \"vpp_lic\" | Vpp Device Based Licensing Enabled\n"
   ]
  }
 ],
 "metadata": {
  "kernelspec": {
   "display_name": "Python 3",
   "language": "python",
   "name": "python3"
  },
  "language_info": {
   "codemirror_mode": {
    "name": "ipython",
    "version": 3
   },
   "file_extension": ".py",
   "mimetype": "text/x-python",
   "name": "python",
   "nbconvert_exporter": "python",
   "pygments_lexer": "ipython3",
   "version": "3.8.3"
  }
 },
 "nbformat": 4,
 "nbformat_minor": 4
}
